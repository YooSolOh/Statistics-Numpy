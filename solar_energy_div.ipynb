{
 "cells": [
  {
   "cell_type": "code",
   "execution_count": 1,
   "metadata": {},
   "outputs": [],
   "source": [
    "import pandas as pd\n",
    "import numpy as np"
   ]
  },
  {
   "cell_type": "markdown",
   "metadata": {},
   "source": [
    "데이터 확인, 따로 연도별로 파일 저장"
   ]
  },
  {
   "cell_type": "code",
   "execution_count": 2,
   "metadata": {},
   "outputs": [],
   "source": [
    "solar = pd.read_csv(r'C:\\Users\\KDP-48\\Desktop\\KDT_3\\team6\\function\\NASA_solar_radiation copy.csv')"
   ]
  },
  {
   "cell_type": "code",
   "execution_count": 3,
   "metadata": {},
   "outputs": [
    {
     "name": "stdout",
     "output_type": "stream",
     "text": [
      "<class 'pandas.core.frame.DataFrame'>\n",
      "RangeIndex: 14977 entries, 0 to 14976\n",
      "Data columns (total 7 columns):\n",
      " #   Column           Non-Null Count  Dtype  \n",
      "---  ------           --------------  -----  \n",
      " 0   year             14976 non-null  float64\n",
      " 1   month            14976 non-null  float64\n",
      " 2   day              14976 non-null  float64\n",
      " 3   radiation_short  14976 non-null  float64\n",
      " 4   radiation_long   14976 non-null  float64\n",
      " 5   UVA              14977 non-null  float64\n",
      " 6   temp             14976 non-null  float64\n",
      "dtypes: float64(7)\n",
      "memory usage: 819.2 KB\n"
     ]
    }
   ],
   "source": [
    "solar.info()"
   ]
  },
  {
   "cell_type": "code",
   "execution_count": 4,
   "metadata": {},
   "outputs": [],
   "source": [
    "# 연도별 반복.. 그냥 돌렸다가 2023년만 10번 나와서 unique붙였음\n",
    "for year in solar['year'].unique():  # 유니크한 연도 찾기\n",
    "    yearly_data = solar[solar['year'] == year]  # 연도별 데이터 선택\n",
    "    yearly_data.to_csv(f'solar_{year}.csv', index=False)  # 파일 저장\n",
    "\n",
    "\n"
   ]
  }
 ],
 "metadata": {
  "kernelspec": {
   "display_name": "bigdata",
   "language": "python",
   "name": "python3"
  },
  "language_info": {
   "codemirror_mode": {
    "name": "ipython",
    "version": 3
   },
   "file_extension": ".py",
   "mimetype": "text/x-python",
   "name": "python",
   "nbconvert_exporter": "python",
   "pygments_lexer": "ipython3",
   "version": "3.12.3"
  }
 },
 "nbformat": 4,
 "nbformat_minor": 2
}
